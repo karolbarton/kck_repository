{
 "cells": [
  {
   "cell_type": "code",
   "execution_count": null,
   "metadata": {},
   "outputs": [],
   "source": [
    "import numpy as np\n",
    "import pandas as pd\n",
    "import matplotlib.pyplot as plt\n",
    "import aseegg as ag\n",
    "\n",
    "dane=pd.read_csv(r\"C:/Users/Moi/Desktop/KCK 13/sub-01_trial-05.csv\", delimiter=',', engine='python', names=['wiersz', '01', '02', '03', '04', 'liczby'])\n",
    "\n",
    "numbers=dane['liczby']\n",
    "mojeDane=dane['01']\n",
    "prob=200\n",
    "czas=len(mojeDane)/200\n",
    "t=np.linspace(0,czas,czas*200)\n",
    "\n",
    "pasmowozaporowy=ag.pasmowozaporowy(mojeDane, prob, 49, 51)\n",
    "przefiltrowany=ag.pasmowoprzepustowy(pasmowozaporowy, prob, 1, 50)\n",
    "\n",
    "plt.plot(t, mojeDane)\n",
    "plt.xlabel(\"Czas [s]\")\n",
    "plt.ylabel(\"Amplituda [-]\")\n",
    "plt.show()\n",
    "\n",
    "plt.plot(t, przefiltrowany)\n",
    "plt.xlabel(\"Czas [s]\")\n",
    "plt.ylabel(\"Amplituda [-]\")\n",
    "plt.show()\n",
    "\n",
    "plt.plot(t, numbers)\n",
    "plt.xlabel(\"Czas [s]\")\n",
    "plt.ylabel(\"Liczby\")\n",
    "plt.show()\n",
    "\n",
    "for i in range(len(dane['01'])):\n",
    "    if dane['01'][i]>0.7:\n",
    "        print(\"Liczba\",[i],\":\",dane['liczby'][i])"
   ]
  }
 ],
 "metadata": {
  "kernelspec": {
   "display_name": "Python 3",
   "language": "python",
   "name": "python3"
  },
  "language_info": {
   "codemirror_mode": {
    "name": "ipython",
    "version": 3
   },
   "file_extension": ".py",
   "mimetype": "text/x-python",
   "name": "python",
   "nbconvert_exporter": "python",
   "pygments_lexer": "ipython3",
   "version": "3.6.5"
  }
 },
 "nbformat": 4,
 "nbformat_minor": 2
}
